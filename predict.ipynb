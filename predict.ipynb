{
 "cells": [
  {
   "cell_type": "code",
   "execution_count": 1,
   "metadata": {},
   "outputs": [],
   "source": [
    "import torch\n",
    "import matplotlib.pyplot as plt\n",
    "from monai.networks.nets import SegResNet\n",
    "import json \n",
    "from monai.transforms import (Compose,\n",
    "                            LoadImaged,\n",
    "                            NormalizeIntensityd,\n",
    "                            Activations, \n",
    "                            AsDiscrete,\n",
    "                            MapTransform)\n",
    "from monai.data import CacheDataset\n",
    "import numpy as np\n"
   ]
  },
  {
   "cell_type": "code",
   "execution_count": 3,
   "metadata": {},
   "outputs": [],
   "source": [
    "class PreprocessDatad(MapTransform):\n",
    "    def __init__(self, keys, divider):\n",
    "        super().__init__(keys)\n",
    "        self.divider = divider\n",
    "        \n",
    "    def __call__(self, x):\n",
    "        for key in self.keys:\n",
    "            x[key] = x[key].unsqueeze(0)\n",
    "            remainder = x[key].shape[3] % self.divider\n",
    "            if remainder != 0:\n",
    "                _,H,W,_ = x[key].shape # 1,H,W,D\n",
    "                x[key] = torch.cat([x[key],torch.zeros(1,H,W,self.divider - remainder)],dim=3)\n",
    "        return x"
   ]
  },
  {
   "cell_type": "code",
   "execution_count": 4,
   "metadata": {},
   "outputs": [],
   "source": [
    "class ConcatTwoChanneld(MapTransform):\n",
    "    def __init__(self,keys):\n",
    "        super().__init__(keys)\n",
    "        \n",
    "    def __call__(self, x):\n",
    "        adc = x['image']\n",
    "        z_adc = x['zmap']\n",
    "        x['image'] = torch.cat([adc,z_adc],dim=0)\n",
    "        x['zmap'] = x['image']\n",
    "        return x"
   ]
  },
  {
   "cell_type": "code",
   "execution_count": 5,
   "metadata": {},
   "outputs": [],
   "source": [
    "class Permuted(MapTransform):\n",
    "    def __init__(self,keys):\n",
    "        super().__init__(keys)\n",
    "        \n",
    "    def __call__(self, x):\n",
    "        for key in self.keys:\n",
    "            x[key] = x[key].permute(0,3,1,2) # shape C,D,H,W\n",
    "        return x"
   ]
  },
  {
   "cell_type": "code",
   "execution_count": 6,
   "metadata": {},
   "outputs": [],
   "source": [
    "class ReciprocalTransform_Concatd(MapTransform):\n",
    "    def __init__(self,keys,power):\n",
    "        super().__init__(keys)\n",
    "        self.power = power\n",
    "\n",
    "    def __call__(self, x):\n",
    "        adc = x['image']\n",
    "        z_adc = x['zmap']\n",
    "        D = adc.shape[3]\n",
    "        for d in range(D):\n",
    "            min_data = torch.min(z_adc[:,:,:,d]).item()\n",
    "            adc[:,:,:,d] = adc[:,:,:,d] / (1 + abs(min_data) + z_adc[:,:,:,d])**(self.power)\n",
    "\n",
    "        x['image'] = torch.cat([x['image'],x['zmap'],adc],dim=0)\n",
    "        x['zmap'] = x['image']\n",
    "        return x"
   ]
  },
  {
   "cell_type": "code",
   "execution_count": 7,
   "metadata": {},
   "outputs": [],
   "source": [
    "def RemovePadding(batch_data,original_list,index):\n",
    "    batch_data = batch_data[:,:,:original_list[index],:,:] # (N,C,D,H,W)\n",
    "    return batch_data     "
   ]
  },
  {
   "cell_type": "code",
   "execution_count": 8,
   "metadata": {},
   "outputs": [],
   "source": [
    "class Unsqueezed(MapTransform):\n",
    "    def __init__(self,keys):\n",
    "        super().__init__(keys)\n",
    "        \n",
    "    def __call__(self, x):\n",
    "        for key in self.keys:\n",
    "            x[key] = x[key].unsqueeze(0) \n",
    "        return x\n"
   ]
  },
  {
   "cell_type": "code",
   "execution_count": 10,
   "metadata": {},
   "outputs": [],
   "source": [
    "val_transform = Compose(\n",
    "        [LoadImaged(keys=[\"image\",\"zmap\",\"label\"], reader = 'ITKReader'),\n",
    "        PreprocessDatad(keys=[\"image\",\"zmap\",\"label\"], divider=8),\n",
    "        ReciprocalTransform_Concatd(keys=[\"image\",\"zmap\"], power=1.5),\n",
    "        # ConcatTwoChanneld(keys=[\"image\",\"zmap\"]),\n",
    "        NormalizeIntensityd(keys=[\"image\",\"zmap\"], nonzero=True, channel_wise=True),\n",
    "        Permuted(keys=[\"image\",\"zmap\", \"label\"]),\n",
    "        ]\n",
    ")"
   ]
  },
  {
   "cell_type": "code",
   "execution_count": 11,
   "metadata": {},
   "outputs": [],
   "source": [
    "device = torch.device(\"cuda\" if torch.cuda.is_available() else \"cpu\")\n",
    "data_path = './bonbid_dataset_monai/dataset.json'\n",
    "\n",
    "post_trans = Compose([Activations(sigmoid=True),\n",
    "                      AsDiscrete(threshold=0.5)])"
   ]
  },
  {
   "cell_type": "code",
   "execution_count": 12,
   "metadata": {},
   "outputs": [
    {
     "name": "stderr",
     "output_type": "stream",
     "text": [
      "Loading dataset: 100%|██████████| 85/85 [00:07<00:00, 11.35it/s]\n"
     ]
    }
   ],
   "source": [
    "with open(data_path,'r') as js_file:\n",
    "    json_object = json.load(js_file)\n",
    "\n",
    "with open('./work_dir/15_09_2023_10_53_51_SegResNet_val_index.json','r') as val_json_file:\n",
    "    val_dict = json.load(val_json_file)\n",
    "\n",
    "val_idx = val_dict['fold_1']\n",
    "\n",
    "\n",
    "with open('./original_size/15_09_2023_10_53_51_SegResNet_ori_size.json','r') as ori_file:\n",
    "    ori_dict = json.load(ori_file)\n",
    "\n",
    "model = SegResNet(spatial_dims=3,init_filters=32,in_channels=3,out_channels=1,\n",
    "                      dropout_prob=0.2,num_groups=8,norm_name='GROUP',upsample_mode='deconv').to(device)\n",
    "\n",
    "\n",
    "val_dataset = CacheDataset(json_object['training'],transform=val_transform)\n",
    "\n",
    "val_dataset_subset = torch.utils.data.Subset(val_dataset,val_idx)\n",
    "val_loader = torch.utils.data.DataLoader(val_dataset_subset, batch_size=1,num_workers=0,shuffle=False)\n",
    "\n",
    "val_list = list(item for item in val_loader)"
   ]
  },
  {
   "cell_type": "code",
   "execution_count": 58,
   "metadata": {},
   "outputs": [
    {
     "data": {
      "image/png": "[encoded data removed]",
      "text/plain": [
       "<Figure size 500x500 with 3 Axes>"
      ]
     },
     "metadata": {},
     "output_type": "display_data"
    }
   ],
   "source": [
    "model = SegResNet(spatial_dims=3,init_filters=32,in_channels=3,out_channels=1,\n",
    "                      dropout_prob=0.2,num_groups=8,norm_name='GROUP',upsample_mode='deconv').to(device)\n",
    "model.load_state_dict(torch.load('./best_checkpoints/SegResNet_best_checkpoint_fold_1_15_09_2023_10_53_51.pth'))\n",
    "\n",
    "model.eval()\n",
    "img_no = 10\n",
    "person_no = 2\n",
    "with torch.no_grad():\n",
    "    input = val_list[person_no]['image'].to(device)\n",
    "    label = val_list[person_no]['label']\n",
    "    val_output = model(input)\n",
    "\n",
    "    input = RemovePadding(input,ori_dict['size'],person_no)\n",
    "    label = RemovePadding(label,ori_dict['size'],person_no)\n",
    "    val_output = RemovePadding(val_output,ori_dict['size'],person_no)\n",
    "    output = post_trans(val_output)\n",
    "\n",
    "    for i in range(10):\n",
    "        plt.subplot(10,3,3*i+1)\n",
    "        plt.title('ADC')\n",
    "        plt.imshow(input[0,0,img_no + i, :, :].detach().cpu())\n",
    "        plt.subplot(10,3,3*i+2)\n",
    "        plt.title('Ground Truth')\n",
    "        plt.imshow(label[0,0,img_no+ i, :, :].detach().cpu())\n",
    "        plt.subplot(10,3,3*i+3)\n",
    "        plt.title('Prediction')\n",
    "        plt.imshow(output[0,0,img_no + i, :, :].detach().cpu())\n",
    "    plt.show()"
   ]
  }
 ],
 "metadata": {
  "kernelspec": {
   "display_name": "mva",
   "language": "python",
   "name": "python3"
  },
  "language_info": {
   "codemirror_mode": {
    "name": "ipython",
    "version": 3
   },
   "file_extension": ".py",
   "mimetype": "text/x-python",
   "name": "python",
   "nbconvert_exporter": "python",
   "pygments_lexer": "ipython3",
   "version": "3.9.17"
  },
  "orig_nbformat": 4
 },
 "nbformat": 4,
 "nbformat_minor": 2
}
